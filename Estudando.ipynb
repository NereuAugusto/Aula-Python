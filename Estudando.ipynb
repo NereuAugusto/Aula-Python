{
 "cells": [
  {
   "cell_type": "code",
   "execution_count": 5,
   "metadata": {},
   "outputs": [
    {
     "name": "stdout",
     "output_type": "stream",
     "text": [
      "n\n",
      "U\n",
      "u\n",
      " nome qualquer\n",
      " no\n"
     ]
    }
   ],
   "source": [
    "letra = 'Um nome qualquer'\n",
    "print(letra[3])\n",
    "print(letra[0])\n",
    "print(letra[-3])\n",
    "print(letra[2:])\n",
    "print(letra[2:5])"
   ]
  },
  {
   "cell_type": "code",
   "execution_count": 7,
   "metadata": {},
   "outputs": [
    {
     "name": "stdout",
     "output_type": "stream",
     "text": [
      "13579\n"
     ]
    }
   ],
   "source": [
    "numero = '123456789'\n",
    "print(numero[::2])"
   ]
  },
  {
   "cell_type": "code",
   "execution_count": 16,
   "metadata": {},
   "outputs": [
    {
     "name": "stdout",
     "output_type": "stream",
     "text": [
      "<class 'list'>\n",
      "[1, 5]\n",
      "2\n",
      "h\n"
     ]
    }
   ],
   "source": [
    "lista = []\n",
    "print(type(lista))\n",
    "\n",
    "#A função len , quando aplicada a um string, retorna o número de caracteres no string (ou seja, o seu comprimento).\n",
    "len(lista)\n",
    "#append (x) Adiciona um item ao fim da lista. Equivalente a a[len(a):] = [x] .\n",
    "#Prolonga a lista, adicionando no fim todos os elementos do argumento iterable passado como parâmetro.\n",
    "lista.append(1)\n",
    "lista.append(5)\n",
    "print(lista)\n",
    "print(len(lista))\n",
    "\n",
    "#vai entrando dentro do outro\n",
    "nova_lista = [1, 5, 'Ana', 'Bia', ['C#', 'Python', 'Node'], 3.14]\n",
    "print(nova_lista[4][1][3])\n"
   ]
  },
  {
   "cell_type": "code",
   "execution_count": 17,
   "metadata": {},
   "outputs": [
    {
     "name": "stdout",
     "output_type": "stream",
     "text": [
      "<class 'dict'>\n",
      "{'nome': 'Andre', 'idade': 35, 'altura': 1.83}\n"
     ]
    }
   ],
   "source": [
    "pessoa = {}\n",
    "print(type(pessoa))\n",
    "\n",
    "pessoa = {'nome':'Andre', 'idade':35, 'altura':1.83}\n",
    "\n",
    "print(pessoa)"
   ]
  },
  {
   "cell_type": "code",
   "execution_count": 19,
   "metadata": {},
   "outputs": [
    {
     "name": "stdout",
     "output_type": "stream",
     "text": [
      "O valor digitado é ->  34\n",
      "O valor é ->  45\n",
      "<class 'int'>\n"
     ]
    }
   ],
   "source": [
    "a = input(\"Digite um valor -> \")\n",
    "print(\"O valor digitado é -> \", a)\n",
    "#Todo input é string, ou seja, texto!\n",
    "#Caso queira transforma-lo em int usa:\n",
    "b = int(input(\"Digite um valor -> \"))\n",
    "print(\"O valor é -> \", b)\n",
    "print(type(b))"
   ]
  },
  {
   "cell_type": "code",
   "execution_count": 21,
   "metadata": {},
   "outputs": [
    {
     "name": "stdout",
     "output_type": "stream",
     "text": [
      "8\n"
     ]
    }
   ],
   "source": [
    "a = (int(input(\"Digite o valor de a -> \")))\n",
    "b = (int(input(\"Digite o valor de b -> \")))\n",
    "c = (int(input(\"Digite o valor de c -> \")))\n",
    "\n",
    "resultado = 0\n",
    "\n",
    "if a > b and a > c:\n",
    "    resultado = a\n",
    "elif b >c and b > a:\n",
    "    resultado = b\n",
    "else:\n",
    "    resultado = c\n",
    "\n",
    "print(resultado)"
   ]
  },
  {
   "cell_type": "code",
   "execution_count": 22,
   "metadata": {},
   "outputs": [
    {
     "name": "stdout",
     "output_type": "stream",
     "text": [
      "10\n",
      "9\n",
      "8\n",
      "7\n",
      "6\n",
      "5\n",
      "4\n",
      "3\n",
      "2\n",
      "1\n"
     ]
    }
   ],
   "source": [
    "a = 10\n",
    "\n",
    "while a > 0:\n",
    "    print(a)\n",
    "    a = a -1"
   ]
  },
  {
   "cell_type": "code",
   "execution_count": 24,
   "metadata": {},
   "outputs": [
    {
     "name": "stdout",
     "output_type": "stream",
     "text": [
      "1 * 1 = 1\n",
      "1 * 2 = 2\n",
      "1 * 3 = 3\n",
      "1 * 4 = 4\n",
      "2 * 1 = 2\n",
      "2 * 2 = 4\n",
      "2 * 3 = 6\n",
      "2 * 4 = 8\n",
      "3 * 1 = 3\n",
      "3 * 2 = 6\n",
      "3 * 3 = 9\n",
      "3 * 4 = 12\n",
      "4 * 1 = 4\n",
      "4 * 2 = 8\n",
      "4 * 3 = 12\n",
      "4 * 4 = 16\n"
     ]
    }
   ],
   "source": [
    "#for\n",
    "# {x} -> x é uma varoável que posso mudar dinamicamente\n",
    "for x in range(1,5):\n",
    "  for y in range(1,5):\n",
    "    print(f'{x} * {y} = {x * y}')"
   ]
  },
  {
   "cell_type": "code",
   "execution_count": 25,
   "metadata": {},
   "outputs": [
    {
     "name": "stdout",
     "output_type": "stream",
     "text": [
      "1 x 1 = 1\n",
      "1 x 2 = 2\n",
      "1 x 3 = 3\n",
      "1 x 4 = 4\n",
      "2 x 1 = 2\n",
      "2 x 2 = 4\n",
      "2 x 3 = 6\n",
      "2 x 4 = 8\n",
      "3 x 1 = 3\n",
      "3 x 2 = 6\n",
      "3 x 3 = 9\n",
      "3 x 4 = 12\n",
      "4 x 1 = 4\n",
      "4 x 2 = 8\n",
      "4 x 3 = 12\n",
      "4 x 4 = 16\n"
     ]
    }
   ],
   "source": [
    "for a in range (1,5):\n",
    "    for b in range (1,5):\n",
    "        print(f\"{a} x {b} = {a*b}\")"
   ]
  },
  {
   "cell_type": "code",
   "execution_count": 26,
   "metadata": {},
   "outputs": [
    {
     "name": "stdout",
     "output_type": "stream",
     "text": [
      "hoje é segunda\n",
      "hoje é terça\n",
      "hoje é quarta\n",
      "hoje é quinta\n",
      "hoje é sexta\n"
     ]
    }
   ],
   "source": [
    "dias_semana = ['segunda', 'terça', 'quarta', 'quinta', 'sexta']\n",
    "\n",
    "for dia in dias_semana:\n",
    "    print(f'hoje é {dia}')"
   ]
  },
  {
   "cell_type": "code",
   "execution_count": 28,
   "metadata": {},
   "outputs": [
    {
     "name": "stdout",
     "output_type": "stream",
     "text": [
      "A pessoa  Andre faz o curso C#\n",
      "A pessoa  Andre faz o curso Pyhton\n",
      "A pessoa  Andre faz o curso Node\n",
      "A pessoa  Ana faz o curso C#\n",
      "A pessoa  Ana faz o curso Pyhton\n",
      "A pessoa  Ana faz o curso Node\n",
      "A pessoa  Ana faz o curso C++\n",
      "A pessoa  João faz o curso Pyhton\n",
      "A pessoa  João faz o curso Node\n",
      "A pessoa  Bia faz o curso C#\n",
      "A pessoa  Bia faz o curso Java\n",
      "A pessoa  Bia faz o curso React\n"
     ]
    }
   ],
   "source": [
    "lista_pessoas = [{'id':1, 'nome':'Andre', 'idade':35, 'altura':1.83, 'cursos':['C#', 'Pyhton', 'Node']},\n",
    "                 {'id':2, 'nome':'Ana', 'idade':22, 'altura':1.57, 'cursos':['C#', 'Pyhton', 'Node', 'C++']},\n",
    "                 {'id':3, 'nome':'João', 'idade':39, 'altura':1.78, 'cursos':['Pyhton', 'Node']},\n",
    "                 {'id':4, 'nome':'Bia', 'idade':27, 'altura':1.63, 'cursos':['C#', 'Java', 'React']}]\n",
    "\n",
    "for pessoa in lista_pessoas:\n",
    "    for curso in pessoa['cursos']:\n",
    "       nome = pessoa['nome']\n",
    "       print(f'A pessoa  {nome} faz o curso {curso}' )"
   ]
  },
  {
   "cell_type": "code",
   "execution_count": 33,
   "metadata": {},
   "outputs": [
    {
     "name": "stdout",
     "output_type": "stream",
     "text": [
      "Python terrivel\n",
      "4.3\n",
      "Não, python é legal!E vai cair na prova\n",
      "6.35\n"
     ]
    }
   ],
   "source": [
    "#Atenção! Prog Orientada a objs\n",
    "#def é pra definir um método e o self é o this\n",
    "#nenhum atributo vai tipo, pois ele é tipado dinamicamente \n",
    "#init é o contrutor e self é sempre o primeiro\n",
    "#instancia é um endereço de memória \n",
    "#constroi obj   depois do igual é o paramaentro de entrada \n",
    "#self vale o espaço que está sendo criado \n",
    "\n",
    "class pessoa:\n",
    "    def __init__(self, altura, cor_cabelo, peso):\n",
    "        self.altura = altura \n",
    "        self.cor_cabelo = cor_cabelo\n",
    "        self.peso = peso\n",
    "\n",
    "    def falar(self, frase):\n",
    "        return frase\n",
    "    \n",
    "    def andar(self, velocidade = 5):\n",
    "        velocidade_real = velocidade - 0.01 * self.peso\n",
    "        return velocidade_real\n",
    "\n",
    "#aq é uma classe que herda atributos da classe pessoa\n",
    "class professor(pessoa):\n",
    "    def __init__(self, altura, cor_cabelo, peso, salario):\n",
    "        super().__init__(altura, cor_cabelo, peso)\n",
    "        self.salario = salario \n",
    "\n",
    "    def falar(self, frase):\n",
    "        return frase + 'E vai cair na prova'\n",
    "    \n",
    "def main():\n",
    "    pessoaobj = pessoa(1.85, \"castanho\", 70)\n",
    "\n",
    "    print(pessoaobj.falar('Python terrivel'))\n",
    "    print(pessoaobj.andar(5))\n",
    "\n",
    "    professorobj = professor(1.70, 'loiro', 65, 2.500)\n",
    "    print(professorobj.falar('Não, python é legal!'))\n",
    "    print(professorobj.andar(7))\n",
    "\n",
    "if __name__ == '__main__':\n",
    " main()"
   ]
  }
 ],
 "metadata": {
  "kernelspec": {
   "display_name": "Python 3.10.5 64-bit",
   "language": "python",
   "name": "python3"
  },
  "language_info": {
   "codemirror_mode": {
    "name": "ipython",
    "version": 3
   },
   "file_extension": ".py",
   "mimetype": "text/x-python",
   "name": "python",
   "nbconvert_exporter": "python",
   "pygments_lexer": "ipython3",
   "version": "3.10.5"
  },
  "orig_nbformat": 4,
  "vscode": {
   "interpreter": {
    "hash": "09128ff4354113f14a5ac30193cebbc6e597435def0c1379fbaa80c942d8293e"
   }
  }
 },
 "nbformat": 4,
 "nbformat_minor": 2
}
