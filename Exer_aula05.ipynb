{
 "cells": [
  {
   "cell_type": "code",
   "execution_count": 24,
   "metadata": {},
   "outputs": [],
   "source": [
    "import sqlite3\n",
    "#Criação banco\n",
    "conn = sqlite3.connect('espm_exer.db')\n",
    "cursor = conn.cursor()\n",
    "#criar tabela\n",
    "cursor.execute(\"\"\"\n",
    "CREATE TABLE IF NOT EXISTS Author(\n",
    "    Authorid INTEGER NOT NULL PRIMARY KEY AUTOINCREMENT, \n",
    "    Name TEXT NOT NULL\n",
    ")\n",
    "\"\"\")\n",
    "\n",
    "#para commitar\n",
    "conn.commit()\n",
    "conn.close()"
   ]
  },
  {
   "cell_type": "code",
   "execution_count": 27,
   "metadata": {},
   "outputs": [
    {
     "name": "stdout",
     "output_type": "stream",
     "text": [
      "linha criada\n"
     ]
    }
   ],
   "source": [
    "import sqlite3\n",
    "\n",
    "conn = sqlite3.connect('espm_exer.db')\n",
    "cursor = conn.cursor()\n",
    "Name = input('Digite o nome: ')\n",
    "cursor.execute('INSERT INTO Author(Name) VALUES (?)', (Name,))\n",
    "\n",
    "print('linha criada')\n",
    "conn.commit()\n",
    "\n",
    "conn.close()"
   ]
  },
  {
   "cell_type": "code",
   "execution_count": 26,
   "metadata": {},
   "outputs": [],
   "source": [
    "import sqlite3\n",
    "\n",
    "conn = sqlite3.connect('espm_exer.db')\n",
    "cursor = conn.cursor()\n",
    "\n",
    "cursor.execute(\"\"\"\n",
    "CREATE TABLE IF NOT EXISTS Post(\n",
    "    Postid INTEGER NOT NULL PRIMARY KEY AUTOINCREMENT, \n",
    "    Authorid INTEGER NOT NULL,\n",
    "    Title TEXT NOT NULL,\n",
    "    Created DATATIME,\n",
    "    FOREIGN KEY (Authorid) REFERENCES Author\n",
    ")\n",
    "\"\"\")\n",
    "#para commitar\n",
    "conn.commit()\n",
    "conn.close()"
   ]
  },
  {
   "cell_type": "code",
   "execution_count": 30,
   "metadata": {},
   "outputs": [
    {
     "name": "stdout",
     "output_type": "stream",
     "text": [
      "linha criada\n"
     ]
    }
   ],
   "source": [
    "import datetime\n",
    "import sqlite3\n",
    "\n",
    "conn = sqlite3.connect('espm_exer.db')\n",
    "cursor = conn.cursor()\n",
    "Title = input('Digite o título: ')\n",
    "Data = datetime.datetime.now()\n",
    "cursor.execute('INSERT INTO Post(Authorid, Title, Created) VALUES (?,?,?)', (1,Title, Data))\n",
    "\n",
    "print('linha criada')\n",
    "conn.commit()\n",
    "\n",
    "conn.close()"
   ]
  }
 ],
 "metadata": {
  "kernelspec": {
   "display_name": "Python 3.10.5 64-bit",
   "language": "python",
   "name": "python3"
  },
  "language_info": {
   "codemirror_mode": {
    "name": "ipython",
    "version": 3
   },
   "file_extension": ".py",
   "mimetype": "text/x-python",
   "name": "python",
   "nbconvert_exporter": "python",
   "pygments_lexer": "ipython3",
   "version": "3.10.5"
  },
  "orig_nbformat": 4,
  "vscode": {
   "interpreter": {
    "hash": "09128ff4354113f14a5ac30193cebbc6e597435def0c1379fbaa80c942d8293e"
   }
  }
 },
 "nbformat": 4,
 "nbformat_minor": 2
}
