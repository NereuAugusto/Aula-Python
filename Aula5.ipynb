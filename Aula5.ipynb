{
 "cells": [
  {
   "cell_type": "code",
   "execution_count": 1,
   "metadata": {},
   "outputs": [
    {
     "name": "stdout",
     "output_type": "stream",
     "text": [
      "Requirement already satisfied: pyodbc in c:\\users\\nereu.campos\\appdata\\local\\programs\\python\\python310\\lib\\site-packages (4.0.34)Note: you may need to restart the kernel to use updated packages.\n",
      "\n"
     ]
    },
    {
     "name": "stderr",
     "output_type": "stream",
     "text": [
      "WARNING: You are using pip version 22.0.4; however, version 22.2.2 is available.\n",
      "You should consider upgrading via the 'c:\\Users\\nereu.campos\\AppData\\Local\\Programs\\Python\\Python310\\python.exe -m pip install --upgrade pip' command.\n"
     ]
    }
   ],
   "source": [
    "pip install pyodbc"
   ]
  },
  {
   "cell_type": "code",
   "execution_count": 7,
   "metadata": {},
   "outputs": [
    {
     "name": "stdout",
     "output_type": "stream",
     "text": [
      "(1, 'andre', 35)\n",
      "(2, 'ana', 26)\n",
      "(3, 'joão', 45)\n"
     ]
    }
   ],
   "source": [
    "import pyodbc\n",
    "#dns -> conversão do endereço em ip\n",
    "server = 'dlapoio.database.windows.net'\n",
    "database = 'masterUber'\n",
    "username = 'andre'\n",
    "password = 'ShC12%Uz'\n",
    "driver = 'SQL Server'\n",
    "\n",
    "#conexão com banco de dados\n",
    "cnxn = pyodbc.connect('DRIVER='+driver+';SERVER='+server+';PORT=1433;DATABASE='+database+\n",
    "                      ';UID='+username+';PWD='+password)\n",
    "#Criar um obj que vc consegue enviar coisa pro banco \n",
    "#cnxn é o que conecta com o banco e usa a biblioeca dele \n",
    "\n",
    "cursor = cnxn.cursor()\n",
    "\n",
    "cursor.execute('SELECT * FROM tb_pessoas')\n",
    "\n",
    "for linha in cursor.fetchall():\n",
    "    print(linha)"
   ]
  },
  {
   "cell_type": "code",
   "execution_count": 10,
   "metadata": {},
   "outputs": [],
   "source": [
    "import sqlite3\n",
    "\n",
    "conn = sqlite3.connect('espm4s.db')\n",
    "cursor = conn.cursor()\n",
    "\n",
    "cursor.execute(\"\"\"\n",
    "CREATE TABLE IF NOT EXISTS tb_pessoas(\n",
    "    id INTEGER NOT NULL PRIMARY KEY AUTOINCREMENT, \n",
    "    nome TEXT NOT NULL,\n",
    "    idade INT NOT NULL\n",
    ")\n",
    "\"\"\")\n",
    "#para commitar\n",
    "conn.commit()"
   ]
  },
  {
   "cell_type": "code",
   "execution_count": 13,
   "metadata": {},
   "outputs": [
    {
     "name": "stdout",
     "output_type": "stream",
     "text": [
      "linha criada\n"
     ]
    }
   ],
   "source": [
    "import sqlite3\n",
    "\n",
    "conn = sqlite3.connect('espm4s.db')\n",
    "cursor = conn.cursor()\n",
    "nome = input('Digite o nome: ')\n",
    "idade = int(input('Digite a idade: '))\n",
    "cursor.execute('INSERT INTO tb_pessoas(nome, idade) VALUES (?,?)', (nome, idade))\n",
    "\n",
    "print('linha criada')\n",
    "conn.commit()\n",
    "\n",
    "conn.close()"
   ]
  },
  {
   "cell_type": "code",
   "execution_count": 17,
   "metadata": {},
   "outputs": [
    {
     "name": "stdout",
     "output_type": "stream",
     "text": [
      "update ok\n"
     ]
    }
   ],
   "source": [
    "import sqlite3\n",
    "\n",
    "conn = sqlite3.connect('espm4s.db')\n",
    "cursor = conn.cursor()\n",
    "\n",
    "\n",
    "cursor.execute('DELETE FROM tb_pessoas  WHERE id = 1')\n",
    "\n",
    "print('delete ok')\n",
    "\n",
    "conn.commit()\n",
    "\n",
    "conn.close()"
   ]
  }
 ],
 "metadata": {
  "kernelspec": {
   "display_name": "Python 3.10.5 64-bit",
   "language": "python",
   "name": "python3"
  },
  "language_info": {
   "codemirror_mode": {
    "name": "ipython",
    "version": 3
   },
   "file_extension": ".py",
   "mimetype": "text/x-python",
   "name": "python",
   "nbconvert_exporter": "python",
   "pygments_lexer": "ipython3",
   "version": "3.10.5"
  },
  "orig_nbformat": 4,
  "vscode": {
   "interpreter": {
    "hash": "09128ff4354113f14a5ac30193cebbc6e597435def0c1379fbaa80c942d8293e"
   }
  }
 },
 "nbformat": 4,
 "nbformat_minor": 2
}
