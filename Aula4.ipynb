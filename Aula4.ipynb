{
 "cells": [
  {
   "cell_type": "code",
   "execution_count": 6,
   "metadata": {},
   "outputs": [],
   "source": [
    "class Pessoa:\n",
    "    #def é pra definir um método e o self é o this\n",
    "    #nenhum atributo vai tipo, pois ele é tipado dinamicamente \n",
    "    #init é o contrutor e self é sempre o primeiro\n",
    "    #instancia é um endereço de memória \n",
    "    def __init__(self,  altura, cor_cabelo, peso):\n",
    "        #constroi obj   depois do igual é o paramaentro de entrada \n",
    "        #self vale o espaço que está sendo criado \n",
    "        self.altura = altura\n",
    "        self.cor_cabelo = cor_cabelo\n",
    "        self.peso = peso\n",
    "    \n",
    "    #criando um método, primeiro atributo sempre self\n",
    "    def falar(self, frase):\n",
    "        return frase \n",
    "\n",
    "    def andar(self, velocidade=5):\n",
    "        velocidade_real = velocidade - 0.01*self.preso\n",
    "        return velocidade_real\n",
    "\n",
    "\n",
    "class Professor(Pessoa):\n",
    " def __init__(self, altura, cor_cabelo, peso, salario):\n",
    "    super().__init__(altura, cor_cabelo, peso)\n",
    "    self.salario = salario\n",
    "\n",
    " def falar(self, frase):\n",
    "    return frase + 'Vai cair na prova!'\n",
    "\n",
    "def main():\n",
    "    pessoaObj = Pessoa(1.8, 'castanho', 95.0)\n",
    "    print(pessoaObj.falar('Python é legal'))\n",
    "    print(pessoaObj.andar(7))\n",
    "\n",
    "    professorObj = Professor(1.9, 'loiro', 89.0, 2000.0)\n",
    "    print(professorObj.falar('Python é legal'))\n",
    "    print(professorObj.andar(9))\n",
    "\n",
    "    if __name__ == '__'"
   ]
  }
 ],
 "metadata": {
  "kernelspec": {
   "display_name": "Python 3.10.5 64-bit",
   "language": "python",
   "name": "python3"
  },
  "language_info": {
   "codemirror_mode": {
    "name": "ipython",
    "version": 3
   },
   "file_extension": ".py",
   "mimetype": "text/x-python",
   "name": "python",
   "nbconvert_exporter": "python",
   "pygments_lexer": "ipython3",
   "version": "3.10.5"
  },
  "orig_nbformat": 4,
  "vscode": {
   "interpreter": {
    "hash": "09128ff4354113f14a5ac30193cebbc6e597435def0c1379fbaa80c942d8293e"
   }
  }
 },
 "nbformat": 4,
 "nbformat_minor": 2
}
