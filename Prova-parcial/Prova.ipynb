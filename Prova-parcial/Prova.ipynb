{
 "cells": [
  {
   "cell_type": "code",
   "execution_count": 24,
   "metadata": {},
   "outputs": [],
   "source": [
    "import sqlite3\n",
    "\n",
    "conn = sqlite3.connect('parcial_prova.db')\n",
    "cursor = conn.cursor()\n",
    "cursor.execute(\"\"\"\n",
    "CREATE TABLE IF NOT EXISTS Post(\n",
    "    PostID INTEGER NOT NULL PRIMARY KEY AUTOINCREMENT, \n",
    "    Title TEXT NOT NULL,\n",
    "    Created DATETIME,\n",
    "    Text TEXT NOT NULL\n",
    ")\n",
    "\"\"\")\n",
    "\n",
    "cursor.execute(\"\"\"\n",
    "CREATE TABLE IF NOT EXISTS Comment(\n",
    "    CommentID INTEGER NOT NULL PRIMARY KEY AUTOINCREMENT,  \n",
    "    PostID INTEGER NOT NULL, \n",
    "    Text TEXT NOT NULL,\n",
    "    Created DATETIME,\n",
    "    User TEXT NOT NULL,\n",
    "    FOREIGN KEY (PostID) REFERENCES Post\n",
    "\n",
    ")\n",
    "\"\"\")\n",
    "\n",
    "conn.commit()\n",
    "conn.close()"
   ]
  },
  {
   "cell_type": "code",
   "execution_count": 18,
   "metadata": {},
   "outputs": [
    {
     "name": "stdout",
     "output_type": "stream",
     "text": [
      "linha criada\n"
     ]
    }
   ],
   "source": [
    "import sqlite3\n",
    "import datetime\n",
    "\n",
    "conn = sqlite3.connect('parcial_prova.db')\n",
    "cursor = conn.cursor()\n",
    "Title = input('Digite o titulo: ')\n",
    "Created = datetime.datetime.now()\n",
    "Text = input('Digite o texto: ')\n",
    "cursor.execute('INSERT INTO Post(Title, Created, Text) VALUES (?, ?, ?)', (Title, Created, Text))\n",
    "\n",
    "print('linha criada')\n",
    "conn.commit()\n",
    "\n",
    "conn.close()"
   ]
  },
  {
   "cell_type": "code",
   "execution_count": 22,
   "metadata": {},
   "outputs": [
    {
     "name": "stdout",
     "output_type": "stream",
     "text": [
      "linha criada\n"
     ]
    }
   ],
   "source": [
    "import datetime\n",
    "import sqlite3\n",
    "\n",
    "conn = sqlite3.connect('parcial_prova.db')\n",
    "cursor = conn.cursor()\n",
    "PostID = input('Digite o id da publicação: ')\n",
    "Text = input('Digite o comentário: ')\n",
    "Created = datetime.datetime.now()\n",
    "User = input('Nome de usuário: ')\n",
    "cursor.execute('INSERT INTO Comment(PostID, Text, Created, User) VALUES (?,?,?,?)', (PostID, Text, Created, User))\n",
    "\n",
    "print('linha criada')\n",
    "conn.commit()\n",
    "\n",
    "conn.close()"
   ]
  },
  {
   "cell_type": "code",
   "execution_count": 28,
   "metadata": {},
   "outputs": [
    {
     "name": "stdout",
     "output_type": "stream",
     "text": [
      "(2, 'Segundo titulo', '2022-09-20 09:35:15.366174', 'Segundo texto', 2, 2, 'asdfgh', '2022-09-20 09:38:18.104215', 'luan')\n",
      "(3, 'wsdfgh', '2022-09-20 09:38:33.540118', 'terceiro tex', None, None, None, None, None)\n"
     ]
    }
   ],
   "source": [
    "import sqlite3\n",
    "\n",
    "conn = sqlite3.connect('parcial_prova.db')\n",
    "cursor = conn.cursor()\n",
    "cursor.execute('SELECT * FROM Post left join Comment on Post.PostID = Comment.PostID')\n",
    "\n",
    "for linha in cursor.fetchall():\n",
    "    print(linha)\n",
    "\n",
    "conn.commit()\n",
    "\n",
    "conn.close()"
   ]
  },
  {
   "cell_type": "code",
   "execution_count": 11,
   "metadata": {},
   "outputs": [
    {
     "name": "stdout",
     "output_type": "stream",
     "text": [
      "delete ok\n"
     ]
    }
   ],
   "source": [
    "import sqlite3\n",
    "\n",
    "conn = sqlite3.connect('parcial_prova.db')\n",
    "cursor = conn.cursor()\n",
    "\n",
    "\n",
    "cursor.execute('DELETE FROM Post  WHERE PostID = 1')\n",
    "cursor.execute('DELETE FROM Comment WHERE CommentID = 1')\n",
    "\n",
    "\n",
    "print('delete ok')\n",
    "\n",
    "conn.commit()\n",
    "\n",
    "conn.close()"
   ]
  },
  {
   "cell_type": "code",
   "execution_count": 27,
   "metadata": {},
   "outputs": [
    {
     "name": "stdout",
     "output_type": "stream",
     "text": [
      "update realizado com sucesso\n",
      "update realizado com sucesso\n"
     ]
    }
   ],
   "source": [
    "import sqlite3\n",
    "\n",
    "conn = sqlite3.connect('parcial_prova.db')\n",
    "\n",
    "cursor = conn.cursor()\n",
    "\n",
    "Title = input('Digite um novo título: ')\n",
    "PostID = input('Inserir um novo ID: ')\n",
    "cursor.execute('UPDATE Post SET Title = ? WHERE PostID = ?', (Title, PostID))\n",
    "\n",
    "print('update realizado com sucesso')\n",
    "\n",
    "Text = input('Digite um novo texto: ')\n",
    "CommentID = input('Inserir um novo ID: ')\n",
    "cursor.execute('UPDATE Comment SET Text = ? WHERE CommentID = ?', (Text, CommentID))\n",
    "\n",
    "print('update realizado com sucesso')\n",
    "\n",
    "conn.commit()\n",
    "conn.close()"
   ]
  }
 ],
 "metadata": {
  "kernelspec": {
   "display_name": "Python 3.10.5 64-bit",
   "language": "python",
   "name": "python3"
  },
  "language_info": {
   "codemirror_mode": {
    "name": "ipython",
    "version": 3
   },
   "file_extension": ".py",
   "mimetype": "text/x-python",
   "name": "python",
   "nbconvert_exporter": "python",
   "pygments_lexer": "ipython3",
   "version": "3.10.5"
  },
  "orig_nbformat": 4,
  "vscode": {
   "interpreter": {
    "hash": "09128ff4354113f14a5ac30193cebbc6e597435def0c1379fbaa80c942d8293e"
   }
  }
 },
 "nbformat": 4,
 "nbformat_minor": 2
}
